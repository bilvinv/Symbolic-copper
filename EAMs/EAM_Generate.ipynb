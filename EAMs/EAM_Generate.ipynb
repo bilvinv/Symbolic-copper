{
 "cells": [
  {
   "cell_type": "code",
   "execution_count": 4,
   "id": "5c252f0a-2c1b-4d7d-a45c-fc203ffbf63e",
   "metadata": {},
   "outputs": [],
   "source": [
    "import math\n",
    "from atsim.potentials import EAMPotential\n",
    "from atsim.potentials import Potential"
   ]
  },
  {
   "cell_type": "code",
   "execution_count": 5,
   "id": "e0c6cf0a-772b-43f6-8f7b-14a338d7c39f",
   "metadata": {},
   "outputs": [],
   "source": [
    "#the EAM Equations for SR 1\n",
    "def pair_AlAl(rij):\n",
    "    if rij == 0:\n",
    "        return 0.0\n",
    "    else:\n",
    "        return (0.0390186*math.exp(-0.00875297577351215/rij**10.0 - 2.43385539174045/rij**9.0 \n",
    "                              + 10.1231100441916/rij**1.0 - 0.270077494647246/(-rij)**12.0 \n",
    "                              - 3.15112744578771/(-rij)**6.0 - 0.0489729*math.exp(1.54181*rij)))\n",
    "        \n",
    "def density(rij):\n",
    "    if rij == 0:\n",
    "        return 0.0\n",
    "    else:\n",
    "        return  (8.90428135093886/rij**7.0 + 132.51961672504/rij**6.0 + 0.661909387377574/rij**5.0 + 2.50249*math.exp(-1.3631716966629*rij)-0.0005759119)\n",
    "\n",
    "def embed(rij):\n",
    "    return (-1.55980005206127*math.sqrt(rij))"
   ]
  },
  {
   "cell_type": "code",
   "execution_count": 8,
   "id": "2c23b256-5508-4176-b50e-90d1c2196f8e",
   "metadata": {},
   "outputs": [],
   "source": [
    "#The EAM Equations for SR 2\n",
    "\n",
    "def pair_AlAl(rij):\n",
    "    if rij == 0:\n",
    "        return 0.0\n",
    "    else:\n",
    "        return (0.0395793*math.exp(-0.00877148851598022/rij**10.0 - 2.43531110224848/rij**9.0 + 10.1195662786646/rij**1.0\n",
    "                              - 0.272993424541694/rij**12.0 - 3.14472887755628/rij**6.0 - 0.0489857*math.exp(1.54267*rij)))\n",
    "\n",
    "def density(rij):\n",
    "    if rij == 0:\n",
    "        return 0.0\n",
    "    else:\n",
    "        return  (9.05930717544174/rij**7.0 + 133.897956020693/rij**6.0 \n",
    "                 + 0.666288509314244/rij**5.0 + 2.51365*math.exp(-1.35158574581146*rij)-0.0005860643)\n",
    "\n",
    "def embed(rij):\n",
    "    return ( -1.5787500787946*math.sqrt(rij) - 0.000922544330640342*rij**2 + 0.0175369570792472*rij)\n",
    "\n",
    "    "
   ]
  },
  {
   "cell_type": "code",
   "execution_count": 9,
   "id": "a20da01f-0686-4397-8829-0efc17c666ba",
   "metadata": {},
   "outputs": [],
   "source": [
    "def main():\n",
    "# Create EAMPotential\n",
    "    eamPotentials = [ EAMPotential(\"Cu\", 29, 63.546, embed, density) ]\n",
    "    pairPotentials = [ Potential('Cu', 'Cu', pair_AlAl) ]\n",
    "\n",
    "    nrho = 500000\n",
    "    drho = 0.001\n",
    "\n",
    "    nr = 79999\n",
    "    dr = 0.0001\n",
    "\n",
    "    from atsim.potentials import writeFuncFL\n",
    "\n",
    "    with open(\"Cu_SR2.eam\", 'w') as outfile:\n",
    "        writeFuncFL(\n",
    "              nrho, drho,\n",
    "              nr, dr,\n",
    "              eamPotentials,\n",
    "              pairPotentials,\n",
    "              out= outfile,\n",
    "              title='EAM Cu')"
   ]
  },
  {
   "cell_type": "code",
   "execution_count": 10,
   "id": "53c7bbc2-ce4e-4424-b354-c6cd94aa8213",
   "metadata": {},
   "outputs": [],
   "source": [
    "if __name__ == \"__main__\":\n",
    "    main()"
   ]
  },
  {
   "cell_type": "code",
   "execution_count": null,
   "id": "636e9dad-8d3a-4097-af74-c7d9e9667500",
   "metadata": {},
   "outputs": [],
   "source": []
  }
 ],
 "metadata": {
  "kernelspec": {
   "display_name": "MyEnvironment",
   "language": "python",
   "name": "symb_tf2"
  },
  "language_info": {
   "codemirror_mode": {
    "name": "ipython",
    "version": 3
   },
   "file_extension": ".py",
   "mimetype": "text/x-python",
   "name": "python",
   "nbconvert_exporter": "python",
   "pygments_lexer": "ipython3",
   "version": "3.9.18"
  }
 },
 "nbformat": 4,
 "nbformat_minor": 5
}

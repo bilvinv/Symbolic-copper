{
 "cells": [
  {
   "cell_type": "code",
   "execution_count": null,
   "id": "11c9eaf9-1cbf-4264-bebf-f2137f7ed965",
   "metadata": {},
   "outputs": [],
   "source": [
    "\"\"\"\n",
    "Run in.init using LAMMPS first\n",
    "\"\"\""
   ]
  },
  {
   "cell_type": "code",
   "execution_count": 3,
   "id": "00f4aafa-33d2-4a3e-abf5-24561d847479",
   "metadata": {},
   "outputs": [
    {
     "name": "stdout",
     "output_type": "stream",
     "text": [
      "Processed folder: 800\n",
      "All files copied and modified successfully!\n"
     ]
    }
   ],
   "source": [
    "import os\n",
    "import shutil\n",
    "\n",
    "# List of folders for all the temperatures you want to work on \n",
    "folders = [\"800\",\"900\",\"925\",\"950\",\"975\",\"1000\",\"1100\"]\n",
    "\n",
    "# File names\n",
    "input_file = \"in.melt\"\n",
    "struct_file = \"crystal_amorphous.data\"\n",
    "potential = \"/global/cfs/projectdirs/m2090/bilvin/Cu_Symbolic_Final/Cu_SR1.eam\"\n",
    "#potential = \"/global/cfs/projectdirs/m2090/bilvin/Cu_Symbolic_Final/Cu_SR2.eam\"\n",
    "\n",
    "if not os.path.exists(input_file):\n",
    "    print(f\"Error: {input_file} does not exist in the current directory.\")\n",
    "    exit(1)\n",
    "    \n",
    "if not os.path.exists(struct_file):\n",
    "    print(f\"Error: {struct_file} does not exist in the current directory.\")\n",
    "    exit(1)\n",
    "\n",
    "# Iterate through each folder\n",
    "for folder in folders:\n",
    "    # Create folder if it doesn't exist\n",
    "    if not os.path.exists(folder):\n",
    "        os.makedirs(folder)\n",
    "        print(f\"Folder {folder} created.\")\n",
    "    \n",
    "    # Copy structure file\n",
    "    shutil.copy(struct_file, os.path.join(folder, struct_file))\n",
    "\n",
    "    # Modify in.melt file and copy it\n",
    "    with open(input_file, \"r\") as f:\n",
    "        content = f.read()\n",
    "\n",
    "    # Replace #TEMP with folder name\n",
    "    modified_content = content.replace(\"#TEMP\", folder).replace(\"#POTENTIAL\", potential)\n",
    "    \n",
    "\n",
    "    # Write modified file to destination folder\n",
    "    output_file = os.path.join(folder, \"in.melt\")\n",
    "    with open(output_file, \"w\") as f:\n",
    "        f.write(modified_content)\n",
    "\n",
    "    print(f\"Processed folder: {folder}\")\n",
    "\n",
    "print(\"All files copied and modified successfully!\")\n"
   ]
  },
  {
   "cell_type": "code",
   "execution_count": 7,
   "id": "a575a47d-2e28-4bcf-bf9f-cdf0f10ddf73",
   "metadata": {},
   "outputs": [
    {
     "name": "stdout",
     "output_type": "stream",
     "text": [
      "Last frame successfully written to 1100_last_frame.xyz\n",
      "Last frame successfully written to 1200_last_frame.xyz\n",
      "Last frame successfully written to 1240_last_frame.xyz\n",
      "Last frame successfully written to 1250_last_frame.xyz\n",
      "Last frame successfully written to 1260_last_frame.xyz\n",
      "Last frame successfully written to 1280_last_frame.xyz\n",
      "Last frame successfully written to 1290_last_frame.xyz\n",
      "Last frame successfully written to 1300_last_frame.xyz\n",
      "Last frame successfully written to 1320_last_frame.xyz\n",
      "Last frame successfully written to 1340_last_frame.xyz\n"
     ]
    }
   ],
   "source": [
    "from ase.io import read, write\n",
    "\n",
    "# Input and output file names\n",
    "#input_file = \"/global/cfs/projectdirs/m3794/bilvin/Symbolic_SC/Melting_Series/SP1/1240/lammps.trj\"  # Replace with your LAMMPS trajectory file\n",
    "folders = [1100,1200,1240,1250,1260,1280,1290,1300,1320,1340]\n",
    "for folder in folders: \n",
    "    input_file = f\"{folder}/lammps.trj\"\n",
    "    Temp = input_file.split(\"/\")[-2]\n",
    "    output_file = f\"{Temp}_last_frame.xyz\"       # Replace with your desired output file name and format\n",
    "\n",
    "# Read the trajectory and extract the last frame\n",
    "    try:\n",
    "    # Read the entire trajectory file\n",
    "        trajectory = read(input_file, index=\":\")\n",
    "    \n",
    "    # Get the last frame\n",
    "        if trajectory:\n",
    "            last_frame = trajectory[-1]\n",
    "        # Write the last frame to the output file\n",
    "            write(output_file, last_frame)\n",
    "            print(f\"Last frame successfully written to {output_file}\")\n",
    "        else:\n",
    "            print(\"No frames found in the trajectory file.\")\n",
    "    except Exception as e:\n",
    "        print(f\"An error occurred: {e}\")\n"
   ]
  },
  {
   "cell_type": "code",
   "execution_count": null,
   "id": "f933dd2f-d611-4746-9fdb-76ba955340b0",
   "metadata": {},
   "outputs": [],
   "source": []
  }
 ],
 "metadata": {
  "kernelspec": {
   "display_name": "MyEnvironment",
   "language": "python",
   "name": "symb_tf2"
  },
  "language_info": {
   "codemirror_mode": {
    "name": "ipython",
    "version": 3
   },
   "file_extension": ".py",
   "mimetype": "text/x-python",
   "name": "python",
   "nbconvert_exporter": "python",
   "pygments_lexer": "ipython3",
   "version": "3.9.18"
  }
 },
 "nbformat": 4,
 "nbformat_minor": 5
}
